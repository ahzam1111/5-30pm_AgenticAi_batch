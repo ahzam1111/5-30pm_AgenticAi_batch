{
 "cells": [
  {
   "cell_type": "markdown",
   "id": "212f62cf-99d1-48ab-9e3e-136e673ab27d",
   "metadata": {},
   "source": [
    "# 15th ==(variable=identifier = object )"
   ]
  },
  {
   "cell_type": "code",
   "execution_count": 2,
   "id": "dd05214c-76d0-4ee8-82d9-73487cd9f2f7",
   "metadata": {},
   "outputs": [
    {
     "data": {
      "text/plain": [
       "5"
      ]
     },
     "execution_count": 2,
     "metadata": {},
     "output_type": "execute_result"
    }
   ],
   "source": [
    "va =5\n",
    "va"
   ]
  },
  {
   "cell_type": "code",
   "execution_count": 3,
   "id": "a0a9052a-0840-4714-a2db-36e69ceeec1b",
   "metadata": {},
   "outputs": [
    {
     "data": {
      "text/plain": [
       "140709884602936"
      ]
     },
     "execution_count": 3,
     "metadata": {},
     "output_type": "execute_result"
    }
   ],
   "source": [
    "id(va)"
   ]
  },
  {
   "cell_type": "code",
   "execution_count": null,
   "id": "91ca402e-94a7-4f53-a2b6-c2b57ba32552",
   "metadata": {},
   "outputs": [],
   "source": []
  },
  {
   "cell_type": "code",
   "execution_count": 5,
   "id": "e1220409-c9e1-4685-951b-d48c47c2f568",
   "metadata": {},
   "outputs": [
    {
     "ename": "SyntaxError",
     "evalue": "invalid decimal literal (1183307833.py, line 1)",
     "output_type": "error",
     "traceback": [
      "\u001b[1;36m  Cell \u001b[1;32mIn[5], line 1\u001b[1;36m\u001b[0m\n\u001b[1;33m    1nit =18 # variable never starts with digit budt ends with digit\u001b[0m\n\u001b[1;37m    ^\u001b[0m\n\u001b[1;31mSyntaxError\u001b[0m\u001b[1;31m:\u001b[0m invalid decimal literal\n"
     ]
    }
   ],
   "source": [
    "1nit =18 # variable never starts with digit budt ends with digit\n",
    "1nit"
   ]
  },
  {
   "cell_type": "code",
   "execution_count": 6,
   "id": "18c00d0d-e3b8-46f2-b0e7-6c2003647fac",
   "metadata": {},
   "outputs": [
    {
     "data": {
      "text/plain": [
       "18"
      ]
     },
     "execution_count": 6,
     "metadata": {},
     "output_type": "execute_result"
    }
   ],
   "source": [
    "nit1 = 18\n",
    "nit1"
   ]
  },
  {
   "cell_type": "code",
   "execution_count": 7,
   "id": "9d40691f-208b-4636-99d3-24a69dd6a75b",
   "metadata": {
    "scrolled": true
   },
   "outputs": [
    {
     "ename": "NameError",
     "evalue": "name 'NIT2' is not defined",
     "output_type": "error",
     "traceback": [
      "\u001b[1;31m---------------------------------------------------------------------------\u001b[0m",
      "\u001b[1;31mNameError\u001b[0m                                 Traceback (most recent call last)",
      "Cell \u001b[1;32mIn[7], line 2\u001b[0m\n\u001b[0;32m      1\u001b[0m nit2 \u001b[38;5;241m=\u001b[39m \u001b[38;5;241m18\u001b[39m\n\u001b[1;32m----> 2\u001b[0m NIT2\n",
      "\u001b[1;31mNameError\u001b[0m: name 'NIT2' is not defined"
     ]
    }
   ],
   "source": [
    "nit2 = 18 # variable are case sensetive \n",
    "NIT2"
   ]
  },
  {
   "cell_type": "code",
   "execution_count": 8,
   "id": "17b0e4b2-410f-4a1d-b302-4333bfd82aa4",
   "metadata": {
    "scrolled": true
   },
   "outputs": [
    {
     "ename": "SyntaxError",
     "evalue": "invalid syntax (480396913.py, line 1)",
     "output_type": "error",
     "traceback": [
      "\u001b[1;36m  Cell \u001b[1;32mIn[8], line 1\u001b[1;36m\u001b[0m\n\u001b[1;33m    v$ =90\u001b[0m\n\u001b[1;37m     ^\u001b[0m\n\u001b[1;31mSyntaxError\u001b[0m\u001b[1;31m:\u001b[0m invalid syntax\n"
     ]
    }
   ],
   "source": [
    "v$ =90 # special character not allowed except ( _ )\n",
    "v$"
   ]
  },
  {
   "cell_type": "code",
   "execution_count": 11,
   "id": "c105ac25-59dc-48fe-90eb-da3b2b211013",
   "metadata": {},
   "outputs": [
    {
     "data": {
      "text/plain": [
       "90"
      ]
     },
     "execution_count": 11,
     "metadata": {},
     "output_type": "execute_result"
    }
   ],
   "source": [
    "v_ =90\n",
    "v_"
   ]
  },
  {
   "cell_type": "code",
   "execution_count": 13,
   "id": "242b2207-5d63-4f83-bb0f-7bcfdc2b4b97",
   "metadata": {},
   "outputs": [
    {
     "data": {
      "text/plain": [
       "['False',\n",
       " 'None',\n",
       " 'True',\n",
       " 'and',\n",
       " 'as',\n",
       " 'assert',\n",
       " 'async',\n",
       " 'await',\n",
       " 'break',\n",
       " 'class',\n",
       " 'continue',\n",
       " 'def',\n",
       " 'del',\n",
       " 'elif',\n",
       " 'else',\n",
       " 'except',\n",
       " 'finally',\n",
       " 'for',\n",
       " 'from',\n",
       " 'global',\n",
       " 'if',\n",
       " 'import',\n",
       " 'in',\n",
       " 'is',\n",
       " 'lambda',\n",
       " 'nonlocal',\n",
       " 'not',\n",
       " 'or',\n",
       " 'pass',\n",
       " 'raise',\n",
       " 'return',\n",
       " 'try',\n",
       " 'while',\n",
       " 'with',\n",
       " 'yield']"
      ]
     },
     "execution_count": 13,
     "metadata": {},
     "output_type": "execute_result"
    }
   ],
   "source": [
    "import keyword  # keyword or words never be decleareda as variable , 35 keyword\n",
    "keyword. kwlist"
   ]
  },
  {
   "cell_type": "code",
   "execution_count": 14,
   "id": "e4eba9b2-820e-43e0-b295-dd6befea7fd0",
   "metadata": {},
   "outputs": [
    {
     "data": {
      "text/plain": [
       "35"
      ]
     },
     "execution_count": 14,
     "metadata": {},
     "output_type": "execute_result"
    }
   ],
   "source": [
    "len(keyword.kwlist) # python are 35 kewword"
   ]
  },
  {
   "cell_type": "code",
   "execution_count": 15,
   "id": "4e3907a0-3422-45df-a925-66e8afbcc96e",
   "metadata": {},
   "outputs": [
    {
     "ename": "SyntaxError",
     "evalue": "invalid syntax (1907045559.py, line 1)",
     "output_type": "error",
     "traceback": [
      "\u001b[1;36m  Cell \u001b[1;32mIn[15], line 1\u001b[1;36m\u001b[0m\n\u001b[1;33m    for = 67\u001b[0m\n\u001b[1;37m        ^\u001b[0m\n\u001b[1;31mSyntaxError\u001b[0m\u001b[1;31m:\u001b[0m invalid syntax\n"
     ]
    }
   ],
   "source": [
    "for = 67\n",
    "for"
   ]
  },
  {
   "cell_type": "code",
   "execution_count": 18,
   "id": "a0c7d152-8c66-4fb5-9f28-d4fd4d289d21",
   "metadata": {
    "scrolled": true
   },
   "outputs": [
    {
     "data": {
      "text/plain": [
       "67"
      ]
     },
     "execution_count": 18,
     "metadata": {},
     "output_type": "execute_result"
    }
   ],
   "source": [
    "For = 67\n",
    "For\n"
   ]
  },
  {
   "cell_type": "code",
   "execution_count": 19,
   "id": "7c795a11-c7dc-4f6c-951e-1ac89eba317f",
   "metadata": {},
   "outputs": [
    {
     "ename": "SyntaxError",
     "evalue": "invalid syntax (1222997945.py, line 1)",
     "output_type": "error",
     "traceback": [
      "\u001b[1;36m  Cell \u001b[1;32mIn[19], line 1\u001b[1;36m\u001b[0m\n\u001b[1;33m    def = 90\u001b[0m\n\u001b[1;37m        ^\u001b[0m\n\u001b[1;31mSyntaxError\u001b[0m\u001b[1;31m:\u001b[0m invalid syntax\n"
     ]
    }
   ],
   "source": [
    "def = 90 \n",
    "def"
   ]
  },
  {
   "cell_type": "code",
   "execution_count": 20,
   "id": "27171421-76be-40f6-b709-26c497d5ed62",
   "metadata": {},
   "outputs": [
    {
     "data": {
      "text/plain": [
       "90"
      ]
     },
     "execution_count": 20,
     "metadata": {},
     "output_type": "execute_result"
    }
   ],
   "source": [
    "Def = 90\n",
    "Def"
   ]
  },
  {
   "cell_type": "code",
   "execution_count": 21,
   "id": "51c0661c-9768-46ec-92c6-9feaae2cf2b3",
   "metadata": {},
   "outputs": [
    {
     "ename": "SyntaxError",
     "evalue": "invalid decimal literal (5034861.py, line 1)",
     "output_type": "error",
     "traceback": [
      "\u001b[1;36m  Cell \u001b[1;32mIn[21], line 1\u001b[1;36m\u001b[0m\n\u001b[1;33m    3a =90\u001b[0m\n\u001b[1;37m    ^\u001b[0m\n\u001b[1;31mSyntaxError\u001b[0m\u001b[1;31m:\u001b[0m invalid decimal literal\n"
     ]
    }
   ],
   "source": [
    "3a =90\n",
    "3a"
   ]
  },
  {
   "cell_type": "code",
   "execution_count": 23,
   "id": "4932b6c7-6deb-48f8-a47f-be1fbd94f11a",
   "metadata": {},
   "outputs": [
    {
     "ename": "SyntaxError",
     "evalue": "cannot assign to True (2200432647.py, line 1)",
     "output_type": "error",
     "traceback": [
      "\u001b[1;36m  Cell \u001b[1;32mIn[23], line 1\u001b[1;36m\u001b[0m\n\u001b[1;33m    True = 90\u001b[0m\n\u001b[1;37m    ^\u001b[0m\n\u001b[1;31mSyntaxError\u001b[0m\u001b[1;31m:\u001b[0m cannot assign to True\n"
     ]
    }
   ],
   "source": [
    "True = 90\n",
    "True\n"
   ]
  },
  {
   "cell_type": "code",
   "execution_count": 24,
   "id": "37f00353-c937-489c-b231-97df284a4fd8",
   "metadata": {},
   "outputs": [
    {
     "data": {
      "text/plain": [
       "8"
      ]
     },
     "execution_count": 24,
     "metadata": {},
     "output_type": "execute_result"
    }
   ],
   "source": [
    " true = 8\n",
    " true"
   ]
  },
  {
   "cell_type": "code",
   "execution_count": 26,
   "id": "f4e1d081-ccb6-45c5-84e5-9084742727a4",
   "metadata": {},
   "outputs": [
    {
     "name": "stdout",
     "output_type": "stream",
     "text": [
      "5\n",
      "6\n",
      "7\n"
     ]
    }
   ],
   "source": [
    "a = 5   # if variable are more than 1 to use (print function)\n",
    "b = 6\n",
    "c = 7\n",
    "print(a)\n",
    "print(b)\n",
    "print(c)"
   ]
  },
  {
   "cell_type": "code",
   "execution_count": 27,
   "id": "91729850-6ebd-427b-bd22-bed36e4f161b",
   "metadata": {},
   "outputs": [
    {
     "data": {
      "text/plain": [
       "'3.12.7 | packaged by Anaconda, Inc. | (main, Oct  4 2024, 13:17:27) [MSC v.1929 64 bit (AMD64)]'"
      ]
     },
     "execution_count": 27,
     "metadata": {},
     "output_type": "execute_result"
    }
   ],
   "source": [
    "import sys\n",
    "sys.version"
   ]
  },
  {
   "cell_type": "code",
   "execution_count": null,
   "id": "19326f41-28d0-4ed6-b254-d1e11e06247a",
   "metadata": {},
   "outputs": [],
   "source": []
  },
  {
   "cell_type": "code",
   "execution_count": null,
   "id": "7adae4b9-9ae0-43e3-b2df-67d252cee922",
   "metadata": {},
   "outputs": [],
   "source": []
  }
 ],
 "metadata": {
  "kernelspec": {
   "display_name": "Python 3 (ipykernel)",
   "language": "python",
   "name": "python3"
  },
  "language_info": {
   "codemirror_mode": {
    "name": "ipython",
    "version": 3
   },
   "file_extension": ".py",
   "mimetype": "text/x-python",
   "name": "python",
   "nbconvert_exporter": "python",
   "pygments_lexer": "ipython3",
   "version": "3.12.7"
  }
 },
 "nbformat": 4,
 "nbformat_minor": 5
}
